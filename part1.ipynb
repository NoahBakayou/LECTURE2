{
 "cells": [
  {
   "cell_type": "markdown",
   "id": "563007bd",
   "metadata": {},
   "source": [
    "# Getting Setup"
   ]
  },
  {
   "cell_type": "code",
   "execution_count": null,
   "id": "acd789a7",
   "metadata": {
    "vscode": {
     "languageId": "plaintext"
    }
   },
   "outputs": [],
   "source": []
  }
 ],
 "metadata": {
  "language_info": {
   "name": "python"
  }
 },
 "nbformat": 4,
 "nbformat_minor": 5
}
