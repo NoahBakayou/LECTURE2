{
 "cells": [
  {
   "cell_type": "markdown",
   "id": "563007bd",
   "metadata": {},
   "source": [
    "# Getting Setup"
   ]
  },
  {
   "cell_type": "code",
   "execution_count": 20,
   "id": "acd789a7",
   "metadata": {},
   "outputs": [],
   "source": [
    "import pandas as pd\n",
    "from pathlib import Path"
   ]
  },
  {
   "cell_type": "code",
   "execution_count": 21,
   "id": "a59cfc76",
   "metadata": {},
   "outputs": [
    {
     "name": "stdout",
     "output_type": "stream",
     "text": [
      "/Users/noahbakayou/Developer/CodingProjects/SDSU/CS577/LECTURE2/notebooks\n"
     ]
    }
   ],
   "source": [
    "cwd = Path.cwd()\n",
    "print(cwd)"
   ]
  },
  {
   "cell_type": "code",
   "execution_count": 22,
   "id": "04580fea",
   "metadata": {},
   "outputs": [
    {
     "name": "stdout",
     "output_type": "stream",
     "text": [
      "/Users/noahbakayou/Developer/CodingProjects/SDSU/CS577/LECTURE2\n"
     ]
    }
   ],
   "source": [
    "parent = cwd.parent\n",
    "print(parent)"
   ]
  },
  {
   "cell_type": "code",
   "execution_count": 23,
   "id": "f1e6d3c2",
   "metadata": {},
   "outputs": [],
   "source": [
    "filename = 'dummy.txt'\n",
    "\n",
    "# The / operator joins path components together to create a full file path\n",
    "# This line creates a path by joining the parent directory, 'data' folder, and filename\n",
    "filepath = cwd.parent / 'data' / filename"
   ]
  },
  {
   "cell_type": "code",
   "execution_count": 24,
   "id": "39a62966",
   "metadata": {},
   "outputs": [
    {
     "name": "stdout",
     "output_type": "stream",
     "text": [
      "Found\n"
     ]
    }
   ],
   "source": [
    "if filepath.exists():\n",
    "    print(\"Found\")"
   ]
  },
  {
   "cell_type": "code",
   "execution_count": 25,
   "id": "bfc38421",
   "metadata": {},
   "outputs": [
    {
     "name": "stdout",
     "output_type": "stream",
     "text": [
      "/Users/noahbakayou/Developer/CodingProjects/SDSU/CS577/LECTURE2/data/USCS-1999-2022-ASCII/BYAREA_COUNTRY.TXT\n"
     ]
    }
   ],
   "source": [
    "cwd = Path.cwd()\n",
    "filepath = cwd.parent / 'data/USCS-1999-2022-ASCII' / 'BYAREA_COUNTRY.TXT'\n",
    "print(filepath)"
   ]
  },
  {
   "cell_type": "code",
   "execution_count": 26,
   "id": "166ba127",
   "metadata": {},
   "outputs": [
    {
     "name": "stderr",
     "output_type": "stream",
     "text": [
      "/var/folders/2j/_9j01ry54m79wdlx_7m_jwcw0000gn/T/ipykernel_78693/3965319588.py:1: DtypeWarning: Columns (2,3,4,5) have mixed types. Specify dtype option on import or set low_memory=False.\n",
      "  my_df = pd.read_csv(cwd.parent / 'data/USCS-1999-2022-ASCII/BYAREA_COUNTY.TXT', delimiter='|', na_values=['~', '.', '+'])\n"
     ]
    }
   ],
   "source": [
    "my_df = pd.read_csv(cwd.parent / 'data/USCS-1999-2022-ASCII/BYAREA_COUNTY.TXT', delimiter='|', na_values=['~', '.', '+'])"
   ]
  },
  {
   "cell_type": "code",
   "execution_count": 27,
   "id": "a4647b21",
   "metadata": {},
   "outputs": [
    {
     "data": {
      "text/html": [
       "<div>\n",
       "<style scoped>\n",
       "    .dataframe tbody tr th:only-of-type {\n",
       "        vertical-align: middle;\n",
       "    }\n",
       "\n",
       "    .dataframe tbody tr th {\n",
       "        vertical-align: top;\n",
       "    }\n",
       "\n",
       "    .dataframe thead th {\n",
       "        text-align: right;\n",
       "    }\n",
       "</style>\n",
       "<table border=\"1\" class=\"dataframe\">\n",
       "  <thead>\n",
       "    <tr style=\"text-align: right;\">\n",
       "      <th></th>\n",
       "      <th>STATE</th>\n",
       "      <th>AREA</th>\n",
       "      <th>AGE_ADJUSTED_CI_LOWER</th>\n",
       "      <th>AGE_ADJUSTED_CI_UPPER</th>\n",
       "      <th>AGE_ADJUSTED_RATE</th>\n",
       "      <th>COUNT</th>\n",
       "      <th>EVENT_TYPE</th>\n",
       "      <th>POPULATION</th>\n",
       "      <th>RACE</th>\n",
       "      <th>SEX</th>\n",
       "      <th>SITE</th>\n",
       "      <th>YEAR</th>\n",
       "    </tr>\n",
       "  </thead>\n",
       "  <tbody>\n",
       "    <tr>\n",
       "      <th>100000</th>\n",
       "      <td>AR</td>\n",
       "      <td>AR: Calhoun County (05013)</td>\n",
       "      <td>NaN</td>\n",
       "      <td>NaN</td>\n",
       "      <td>NaN</td>\n",
       "      <td>NaN</td>\n",
       "      <td>Mortality</td>\n",
       "      <td>43</td>\n",
       "      <td>American Indian/Alaska Native, Non-Hispanic</td>\n",
       "      <td>Female</td>\n",
       "      <td>Melanomas of the Skin</td>\n",
       "      <td>2019-2023</td>\n",
       "    </tr>\n",
       "    <tr>\n",
       "      <th>100001</th>\n",
       "      <td>AR</td>\n",
       "      <td>AR: Calhoun County (05013)</td>\n",
       "      <td>NaN</td>\n",
       "      <td>NaN</td>\n",
       "      <td>NaN</td>\n",
       "      <td>NaN</td>\n",
       "      <td>Incidence</td>\n",
       "      <td>40</td>\n",
       "      <td>American Indian/Alaska Native, Non-Hispanic</td>\n",
       "      <td>Female</td>\n",
       "      <td>Mesothelioma</td>\n",
       "      <td>2018-2022</td>\n",
       "    </tr>\n",
       "    <tr>\n",
       "      <th>100002</th>\n",
       "      <td>AR</td>\n",
       "      <td>AR: Calhoun County (05013)</td>\n",
       "      <td>NaN</td>\n",
       "      <td>NaN</td>\n",
       "      <td>NaN</td>\n",
       "      <td>NaN</td>\n",
       "      <td>Mortality</td>\n",
       "      <td>43</td>\n",
       "      <td>American Indian/Alaska Native, Non-Hispanic</td>\n",
       "      <td>Female</td>\n",
       "      <td>Mesothelioma</td>\n",
       "      <td>2019-2023</td>\n",
       "    </tr>\n",
       "    <tr>\n",
       "      <th>100003</th>\n",
       "      <td>AR</td>\n",
       "      <td>AR: Calhoun County (05013)</td>\n",
       "      <td>NaN</td>\n",
       "      <td>NaN</td>\n",
       "      <td>NaN</td>\n",
       "      <td>NaN</td>\n",
       "      <td>Incidence</td>\n",
       "      <td>40</td>\n",
       "      <td>American Indian/Alaska Native, Non-Hispanic</td>\n",
       "      <td>Female</td>\n",
       "      <td>Myeloma</td>\n",
       "      <td>2018-2022</td>\n",
       "    </tr>\n",
       "    <tr>\n",
       "      <th>100004</th>\n",
       "      <td>AR</td>\n",
       "      <td>AR: Calhoun County (05013)</td>\n",
       "      <td>NaN</td>\n",
       "      <td>NaN</td>\n",
       "      <td>NaN</td>\n",
       "      <td>NaN</td>\n",
       "      <td>Mortality</td>\n",
       "      <td>43</td>\n",
       "      <td>American Indian/Alaska Native, Non-Hispanic</td>\n",
       "      <td>Female</td>\n",
       "      <td>Myeloma</td>\n",
       "      <td>2019-2023</td>\n",
       "    </tr>\n",
       "  </tbody>\n",
       "</table>\n",
       "</div>"
      ],
      "text/plain": [
       "       STATE                        AREA AGE_ADJUSTED_CI_LOWER  \\\n",
       "100000    AR  AR: Calhoun County (05013)                   NaN   \n",
       "100001    AR  AR: Calhoun County (05013)                   NaN   \n",
       "100002    AR  AR: Calhoun County (05013)                   NaN   \n",
       "100003    AR  AR: Calhoun County (05013)                   NaN   \n",
       "100004    AR  AR: Calhoun County (05013)                   NaN   \n",
       "\n",
       "       AGE_ADJUSTED_CI_UPPER AGE_ADJUSTED_RATE COUNT EVENT_TYPE  POPULATION  \\\n",
       "100000                   NaN               NaN   NaN  Mortality          43   \n",
       "100001                   NaN               NaN   NaN  Incidence          40   \n",
       "100002                   NaN               NaN   NaN  Mortality          43   \n",
       "100003                   NaN               NaN   NaN  Incidence          40   \n",
       "100004                   NaN               NaN   NaN  Mortality          43   \n",
       "\n",
       "                                               RACE     SEX  \\\n",
       "100000  American Indian/Alaska Native, Non-Hispanic  Female   \n",
       "100001  American Indian/Alaska Native, Non-Hispanic  Female   \n",
       "100002  American Indian/Alaska Native, Non-Hispanic  Female   \n",
       "100003  American Indian/Alaska Native, Non-Hispanic  Female   \n",
       "100004  American Indian/Alaska Native, Non-Hispanic  Female   \n",
       "\n",
       "                         SITE       YEAR  \n",
       "100000  Melanomas of the Skin  2019-2023  \n",
       "100001           Mesothelioma  2018-2022  \n",
       "100002           Mesothelioma  2019-2023  \n",
       "100003                Myeloma  2018-2022  \n",
       "100004                Myeloma  2019-2023  "
      ]
     },
     "execution_count": 27,
     "metadata": {},
     "output_type": "execute_result"
    }
   ],
   "source": [
    "my_df[100000:100005]"
   ]
  },
  {
   "cell_type": "markdown",
   "id": "b206e78d",
   "metadata": {},
   "source": [
    "# Understand the data\n"
   ]
  },
  {
   "cell_type": "code",
   "execution_count": 28,
   "id": "4886f5a0",
   "metadata": {},
   "outputs": [
    {
     "data": {
      "text/html": [
       "<div>\n",
       "<style scoped>\n",
       "    .dataframe tbody tr th:only-of-type {\n",
       "        vertical-align: middle;\n",
       "    }\n",
       "\n",
       "    .dataframe tbody tr th {\n",
       "        vertical-align: top;\n",
       "    }\n",
       "\n",
       "    .dataframe thead th {\n",
       "        text-align: right;\n",
       "    }\n",
       "</style>\n",
       "<table border=\"1\" class=\"dataframe\">\n",
       "  <thead>\n",
       "    <tr style=\"text-align: right;\">\n",
       "      <th></th>\n",
       "      <th>STATE</th>\n",
       "      <th>AREA</th>\n",
       "      <th>AGE_ADJUSTED_CI_LOWER</th>\n",
       "      <th>AGE_ADJUSTED_CI_UPPER</th>\n",
       "      <th>AGE_ADJUSTED_RATE</th>\n",
       "      <th>COUNT</th>\n",
       "      <th>EVENT_TYPE</th>\n",
       "      <th>POPULATION</th>\n",
       "      <th>RACE</th>\n",
       "      <th>SEX</th>\n",
       "      <th>SITE</th>\n",
       "      <th>YEAR</th>\n",
       "    </tr>\n",
       "  </thead>\n",
       "  <tbody>\n",
       "    <tr>\n",
       "      <th>95</th>\n",
       "      <td>AK</td>\n",
       "      <td>AK: Aleutians East Borough (02013) - 1994+</td>\n",
       "      <td>221.3</td>\n",
       "      <td>554.1</td>\n",
       "      <td>362.8</td>\n",
       "      <td>41.0</td>\n",
       "      <td>Incidence</td>\n",
       "      <td>17083</td>\n",
       "      <td>All Races</td>\n",
       "      <td>Male and Female</td>\n",
       "      <td>All Cancer Sites Combined</td>\n",
       "      <td>2018-2022</td>\n",
       "    </tr>\n",
       "    <tr>\n",
       "      <th>243</th>\n",
       "      <td>AK</td>\n",
       "      <td>AK: Aleutians East Borough (02013) - 1994+</td>\n",
       "      <td>589.6</td>\n",
       "      <td>1339.7</td>\n",
       "      <td>902.0</td>\n",
       "      <td>32.0</td>\n",
       "      <td>Incidence</td>\n",
       "      <td>2457</td>\n",
       "      <td>American Indian/Alaska Native, Non-Hispanic</td>\n",
       "      <td>Male and Female</td>\n",
       "      <td>All Cancer Sites Combined</td>\n",
       "      <td>2018-2022</td>\n",
       "    </tr>\n",
       "    <tr>\n",
       "      <th>961</th>\n",
       "      <td>AK</td>\n",
       "      <td>AK: Aleutians West Census Area (02016) - 1994+</td>\n",
       "      <td>179.5</td>\n",
       "      <td>562.4</td>\n",
       "      <td>335.1</td>\n",
       "      <td>23.0</td>\n",
       "      <td>Incidence</td>\n",
       "      <td>7879</td>\n",
       "      <td>All Races</td>\n",
       "      <td>Female</td>\n",
       "      <td>All Cancer Sites Combined</td>\n",
       "      <td>2018-2022</td>\n",
       "    </tr>\n",
       "    <tr>\n",
       "      <th>1010</th>\n",
       "      <td>AK</td>\n",
       "      <td>AK: Aleutians West Census Area (02016) - 1994+</td>\n",
       "      <td>118.5</td>\n",
       "      <td>553.8</td>\n",
       "      <td>288.4</td>\n",
       "      <td>23.0</td>\n",
       "      <td>Incidence</td>\n",
       "      <td>18105</td>\n",
       "      <td>All Races</td>\n",
       "      <td>Male</td>\n",
       "      <td>All Cancer Sites Combined</td>\n",
       "      <td>2018-2022</td>\n",
       "    </tr>\n",
       "    <tr>\n",
       "      <th>1056</th>\n",
       "      <td>AK</td>\n",
       "      <td>AK: Aleutians West Census Area (02016) - 1994+</td>\n",
       "      <td>163.2</td>\n",
       "      <td>414.4</td>\n",
       "      <td>270.5</td>\n",
       "      <td>46.0</td>\n",
       "      <td>Incidence</td>\n",
       "      <td>25984</td>\n",
       "      <td>All Races</td>\n",
       "      <td>Male and Female</td>\n",
       "      <td>All Cancer Sites Combined</td>\n",
       "      <td>2018-2022</td>\n",
       "    </tr>\n",
       "    <tr>\n",
       "      <th>...</th>\n",
       "      <td>...</td>\n",
       "      <td>...</td>\n",
       "      <td>...</td>\n",
       "      <td>...</td>\n",
       "      <td>...</td>\n",
       "      <td>...</td>\n",
       "      <td>...</td>\n",
       "      <td>...</td>\n",
       "      <td>...</td>\n",
       "      <td>...</td>\n",
       "      <td>...</td>\n",
       "      <td>...</td>\n",
       "    </tr>\n",
       "    <tr>\n",
       "      <th>2994398</th>\n",
       "      <td>WY</td>\n",
       "      <td>WY: Weston County (56045)</td>\n",
       "      <td>22.1</td>\n",
       "      <td>59.3</td>\n",
       "      <td>36.4</td>\n",
       "      <td>21.0</td>\n",
       "      <td>Incidence</td>\n",
       "      <td>31146</td>\n",
       "      <td>White, Non-Hispanic</td>\n",
       "      <td>Male and Female</td>\n",
       "      <td>Colon and Rectum</td>\n",
       "      <td>2018-2022</td>\n",
       "    </tr>\n",
       "    <tr>\n",
       "      <th>2994416</th>\n",
       "      <td>WY</td>\n",
       "      <td>WY: Weston County (56045)</td>\n",
       "      <td>47.7</td>\n",
       "      <td>97.2</td>\n",
       "      <td>68.3</td>\n",
       "      <td>37.0</td>\n",
       "      <td>Incidence</td>\n",
       "      <td>31146</td>\n",
       "      <td>White, Non-Hispanic</td>\n",
       "      <td>Male and Female</td>\n",
       "      <td>Lung and Bronchus</td>\n",
       "      <td>2018-2022</td>\n",
       "    </tr>\n",
       "    <tr>\n",
       "      <th>2994417</th>\n",
       "      <td>WY</td>\n",
       "      <td>WY: Weston County (56045)</td>\n",
       "      <td>29.7</td>\n",
       "      <td>76.5</td>\n",
       "      <td>48.4</td>\n",
       "      <td>22.0</td>\n",
       "      <td>Mortality</td>\n",
       "      <td>30394</td>\n",
       "      <td>White, Non-Hispanic</td>\n",
       "      <td>Male and Female</td>\n",
       "      <td>Lung and Bronchus</td>\n",
       "      <td>2019-2023</td>\n",
       "    </tr>\n",
       "    <tr>\n",
       "      <th>2994418</th>\n",
       "      <td>WY</td>\n",
       "      <td>WY: Weston County (56045)</td>\n",
       "      <td>94.8</td>\n",
       "      <td>212.5</td>\n",
       "      <td>143.7</td>\n",
       "      <td>32.0</td>\n",
       "      <td>Incidence</td>\n",
       "      <td>14240</td>\n",
       "      <td>White, Non-Hispanic</td>\n",
       "      <td>Male and Female</td>\n",
       "      <td>Male and Female Breast</td>\n",
       "      <td>2018-2022</td>\n",
       "    </tr>\n",
       "    <tr>\n",
       "      <th>2994435</th>\n",
       "      <td>WY</td>\n",
       "      <td>WY: Weston County (56045)</td>\n",
       "      <td>71.5</td>\n",
       "      <td>159.0</td>\n",
       "      <td>107.3</td>\n",
       "      <td>31.0</td>\n",
       "      <td>Incidence</td>\n",
       "      <td>16906</td>\n",
       "      <td>White, Non-Hispanic</td>\n",
       "      <td>Male and Female</td>\n",
       "      <td>Prostate</td>\n",
       "      <td>2018-2022</td>\n",
       "    </tr>\n",
       "  </tbody>\n",
       "</table>\n",
       "<p>365526 rows × 12 columns</p>\n",
       "</div>"
      ],
      "text/plain": [
       "        STATE                                            AREA  \\\n",
       "95         AK      AK: Aleutians East Borough (02013) - 1994+   \n",
       "243        AK      AK: Aleutians East Borough (02013) - 1994+   \n",
       "961        AK  AK: Aleutians West Census Area (02016) - 1994+   \n",
       "1010       AK  AK: Aleutians West Census Area (02016) - 1994+   \n",
       "1056       AK  AK: Aleutians West Census Area (02016) - 1994+   \n",
       "...       ...                                             ...   \n",
       "2994398    WY                       WY: Weston County (56045)   \n",
       "2994416    WY                       WY: Weston County (56045)   \n",
       "2994417    WY                       WY: Weston County (56045)   \n",
       "2994418    WY                       WY: Weston County (56045)   \n",
       "2994435    WY                       WY: Weston County (56045)   \n",
       "\n",
       "        AGE_ADJUSTED_CI_LOWER AGE_ADJUSTED_CI_UPPER AGE_ADJUSTED_RATE COUNT  \\\n",
       "95                      221.3                 554.1             362.8  41.0   \n",
       "243                     589.6                1339.7             902.0  32.0   \n",
       "961                     179.5                 562.4             335.1  23.0   \n",
       "1010                    118.5                 553.8             288.4  23.0   \n",
       "1056                    163.2                 414.4             270.5  46.0   \n",
       "...                       ...                   ...               ...   ...   \n",
       "2994398                  22.1                  59.3              36.4  21.0   \n",
       "2994416                  47.7                  97.2              68.3  37.0   \n",
       "2994417                  29.7                  76.5              48.4  22.0   \n",
       "2994418                  94.8                 212.5             143.7  32.0   \n",
       "2994435                  71.5                 159.0             107.3  31.0   \n",
       "\n",
       "        EVENT_TYPE  POPULATION                                         RACE  \\\n",
       "95       Incidence       17083                                    All Races   \n",
       "243      Incidence        2457  American Indian/Alaska Native, Non-Hispanic   \n",
       "961      Incidence        7879                                    All Races   \n",
       "1010     Incidence       18105                                    All Races   \n",
       "1056     Incidence       25984                                    All Races   \n",
       "...            ...         ...                                          ...   \n",
       "2994398  Incidence       31146                          White, Non-Hispanic   \n",
       "2994416  Incidence       31146                          White, Non-Hispanic   \n",
       "2994417  Mortality       30394                          White, Non-Hispanic   \n",
       "2994418  Incidence       14240                          White, Non-Hispanic   \n",
       "2994435  Incidence       16906                          White, Non-Hispanic   \n",
       "\n",
       "                     SEX                       SITE       YEAR  \n",
       "95       Male and Female  All Cancer Sites Combined  2018-2022  \n",
       "243      Male and Female  All Cancer Sites Combined  2018-2022  \n",
       "961               Female  All Cancer Sites Combined  2018-2022  \n",
       "1010                Male  All Cancer Sites Combined  2018-2022  \n",
       "1056     Male and Female  All Cancer Sites Combined  2018-2022  \n",
       "...                  ...                        ...        ...  \n",
       "2994398  Male and Female           Colon and Rectum  2018-2022  \n",
       "2994416  Male and Female          Lung and Bronchus  2018-2022  \n",
       "2994417  Male and Female          Lung and Bronchus  2019-2023  \n",
       "2994418  Male and Female     Male and Female Breast  2018-2022  \n",
       "2994435  Male and Female                   Prostate  2018-2022  \n",
       "\n",
       "[365526 rows x 12 columns]"
      ]
     },
     "execution_count": 28,
     "metadata": {},
     "output_type": "execute_result"
    }
   ],
   "source": [
    "my_df[my_df['COUNT'].notna()]"
   ]
  },
  {
   "cell_type": "markdown",
   "id": "d8ed07a0",
   "metadata": {},
   "source": []
  },
  {
   "cell_type": "code",
   "execution_count": 29,
   "id": "ed90ea85",
   "metadata": {},
   "outputs": [
    {
     "data": {
      "text/plain": [
       "(2994445, 12)"
      ]
     },
     "execution_count": 29,
     "metadata": {},
     "output_type": "execute_result"
    }
   ],
   "source": [
    "my_df.shape"
   ]
  },
  {
   "cell_type": "code",
   "execution_count": 31,
   "id": "90087236",
   "metadata": {},
   "outputs": [
    {
     "data": {
      "text/plain": [
       "Index(['STATE', 'AREA', 'AGE_ADJUSTED_CI_LOWER', 'AGE_ADJUSTED_CI_UPPER',\n",
       "       'AGE_ADJUSTED_RATE', 'COUNT', 'EVENT_TYPE', 'POPULATION', 'RACE', 'SEX',\n",
       "       'SITE', 'YEAR'],\n",
       "      dtype='object')"
      ]
     },
     "execution_count": 31,
     "metadata": {},
     "output_type": "execute_result"
    }
   ],
   "source": [
    "my_df.columns"
   ]
  },
  {
   "cell_type": "code",
   "execution_count": null,
   "id": "ddbf4690",
   "metadata": {},
   "outputs": [],
   "source": [
    "my_df['SITE'].unique()"
   ]
  }
 ],
 "metadata": {
  "kernelspec": {
   "display_name": "LECTURE2",
   "language": "python",
   "name": "python3"
  },
  "language_info": {
   "codemirror_mode": {
    "name": "ipython",
    "version": 3
   },
   "file_extension": ".py",
   "mimetype": "text/x-python",
   "name": "python",
   "nbconvert_exporter": "python",
   "pygments_lexer": "ipython3",
   "version": "3.13.7"
  }
 },
 "nbformat": 4,
 "nbformat_minor": 5
}
