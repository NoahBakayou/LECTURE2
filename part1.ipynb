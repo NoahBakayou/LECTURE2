{
 "cells": [
  {
   "cell_type": "markdown",
   "id": "563007bd",
   "metadata": {},
   "source": [
    "# Getting Setup"
   ]
  }
 ],
 "metadata": {
  "language_info": {
   "name": "python"
  }
 },
 "nbformat": 4,
 "nbformat_minor": 5
}
