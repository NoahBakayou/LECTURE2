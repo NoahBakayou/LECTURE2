{
 "cells": [
  {
   "cell_type": "markdown",
   "id": "563007bd",
   "metadata": {},
   "source": [
    "# Getting Setup"
   ]
  },
  {
   "cell_type": "code",
   "execution_count": 5,
   "id": "acd789a7",
   "metadata": {},
   "outputs": [],
   "source": [
    "import pandas as pd\n",
    "from pathlib import Path"
   ]
  },
  {
   "cell_type": "code",
   "execution_count": 6,
   "id": "a59cfc76",
   "metadata": {},
   "outputs": [
    {
     "name": "stdout",
     "output_type": "stream",
     "text": [
      "/Users/noahbakayou/Developer/CodingProjects/SDSU/CS577/LECTURE2/notebooks\n"
     ]
    }
   ],
   "source": [
    "cwd = Path.cwd()\n",
    "print(cwd)"
   ]
  },
  {
   "cell_type": "code",
   "execution_count": 7,
   "id": "04580fea",
   "metadata": {},
   "outputs": [
    {
     "name": "stdout",
     "output_type": "stream",
     "text": [
      "/Users/noahbakayou/Developer/CodingProjects/SDSU/CS577/LECTURE2\n"
     ]
    }
   ],
   "source": [
    "parent = cwd.parent\n",
    "print(parent)"
   ]
  },
  {
   "cell_type": "code",
   "execution_count": null,
   "id": "f1e6d3c2",
   "metadata": {},
   "outputs": [],
   "source": [
    "filename = 'dummy.txt'\n",
    "\n",
    "# The / operator joins path components together to create a full file path\n",
    "# This line creates a path by joining the parent directory, 'data' folder, and filename\n",
    "filepath = cwd.parent / 'data' / filename"
   ]
  },
  {
   "cell_type": "code",
   "execution_count": null,
   "id": "39a62966",
   "metadata": {},
   "outputs": [
    {
     "name": "stdout",
     "output_type": "stream",
     "text": [
      "Found\n"
     ]
    }
   ],
   "source": [
    "if filepath.exists():\n",
    "    print(\"Found\")"
   ]
  },
  {
   "cell_type": "code",
   "execution_count": null,
   "id": "bfc38421",
   "metadata": {},
   "outputs": [],
   "source": []
  }
 ],
 "metadata": {
  "kernelspec": {
   "display_name": "LECTURE2",
   "language": "python",
   "name": "python3"
  },
  "language_info": {
   "codemirror_mode": {
    "name": "ipython",
    "version": 3
   },
   "file_extension": ".py",
   "mimetype": "text/x-python",
   "name": "python",
   "nbconvert_exporter": "python",
   "pygments_lexer": "ipython3",
   "version": "3.13.7"
  }
 },
 "nbformat": 4,
 "nbformat_minor": 5
}
